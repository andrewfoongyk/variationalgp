{
 "cells": [
  {
   "cell_type": "code",
   "execution_count": 1,
   "metadata": {},
   "outputs": [],
   "source": [
    "import torch\n",
    "import torch.nn as nn\n",
    "import torch.optim as optim\n",
    "import numpy as np\n",
    "import pickle\n",
    "import sys\n",
    "import matplotlib.pyplot as plt\n",
    "import random"
   ]
  },
  {
   "cell_type": "code",
   "execution_count": 2,
   "metadata": {},
   "outputs": [],
   "source": [
    "def plot_GP(pred_mean,pred_covar,train_inputs,train_outputs,test_inputs):\n",
    "    fig, ax = plt.subplots()\n",
    "    plt.plot(train_inputs, train_outputs, '+k')\n",
    "    pred_mean = pred_mean.data.numpy()\n",
    "    pred_sd = np.sqrt(pred_covar.data.numpy().diagonal())\n",
    "    plt.plot(test_inputs, pred_mean, '+b')\n",
    "    plt.plot(test_inputs, np.squeeze(pred_mean) + 2*pred_sd, '+r')\n",
    "    plt.plot(test_inputs, np.squeeze(pred_mean) - 2*pred_sd, '+r')\n",
    "    #plt.fill_between(np.squeeze(test_inputs), np.squeeze(pred_mean) + 2*pred_sd, \n",
    "    #                 np.squeeze(pred_mean) - 2*pred_sd, color='b', alpha=0.3)"
   ]
  },
  {
   "cell_type": "raw",
   "metadata": {},
   "source": [
    "with open('../boston_housing0.pkl','rb') as handle:\n",
    "    train_set, train_set_normalised, val_set_normalised, test_set, train_mean, train_sd = pickle.load(handle)\n",
    "\n",
    "Xn = train_set_normalised[:,:-1]\n",
    "Yn = np.expand_dims(train_set_normalised[:,-1],axis=1)"
   ]
  },
  {
   "cell_type": "markdown",
   "metadata": {},
   "source": [
    "# Toy dataset"
   ]
  },
  {
   "cell_type": "code",
   "execution_count": 97,
   "metadata": {},
   "outputs": [],
   "source": [
    "lim = 20\n",
    "resolution = 500\n",
    "\n",
    "Xn = np.expand_dims(np.linspace(-lim,lim,resolution),1)\n",
    "Yn = np.expand_dims(np.linspace(-lim,lim,resolution)+np.linspace(-lim,lim,resolution)*np.sin(np.linspace(-lim,lim,resolution)),1)"
   ]
  },
  {
   "cell_type": "code",
   "execution_count": 98,
   "metadata": {},
   "outputs": [
    {
     "data": {
      "text/plain": [
       "[<matplotlib.lines.Line2D at 0x7fc000348668>]"
      ]
     },
     "execution_count": 98,
     "metadata": {},
     "output_type": "execute_result"
    },
    {
     "data": {
      "image/png": "[encoded data removed]",
      "text/plain": [
       "<matplotlib.figure.Figure at 0x7fc0007fab70>"
      ]
     },
     "metadata": {},
     "output_type": "display_data"
    }
   ],
   "source": [
    "plt.plot(Xn,Yn)"
   ]
  },
  {
   "cell_type": "markdown",
   "metadata": {},
   "source": [
    "To do:\n",
    "- Remove n from multivariate Gaussian formula"
   ]
  },
  {
   "cell_type": "code",
   "execution_count": 101,
   "metadata": {},
   "outputs": [],
   "source": [
    "random.seed(101)\n",
    "myGP = variational_GP(Xn, Yn)"
   ]
  },
  {
   "cell_type": "markdown",
   "metadata": {},
   "source": [
    "After optimization, the variational lower bound has been maximized and the parameters have changed.\n",
    "\n",
    "### Before:"
   ]
  },
  {
   "cell_type": "code",
   "execution_count": 119,
   "metadata": {
    "scrolled": false
   },
   "outputs": [
    {
     "ename": "AttributeError",
     "evalue": "'variational_GP' object has no attribute 'Fv'",
     "output_type": "error",
     "traceback": [
      "\u001b[0;31m---------------------------------------------------------------------------\u001b[0m",
      "\u001b[0;31mAttributeError\u001b[0m                            Traceback (most recent call last)",
      "\u001b[0;32m<ipython-input-119-6332c3fe9d7d>\u001b[0m in \u001b[0;36m<module>\u001b[0;34m()\u001b[0m\n\u001b[0;32m----> 1\u001b[0;31m \u001b[0mmyGP\u001b[0m\u001b[0;34m.\u001b[0m\u001b[0mFv\u001b[0m\u001b[0;34m(\u001b[0m\u001b[0;34m)\u001b[0m\u001b[0;34m\u001b[0m\u001b[0;34m\u001b[0m\u001b[0m\n\u001b[0m",
      "\u001b[0;32m~/anaconda3/envs/music/lib/python3.6/site-packages/torch/nn/modules/module.py\u001b[0m in \u001b[0;36m__getattr__\u001b[0;34m(self, name)\u001b[0m\n\u001b[1;32m    533\u001b[0m                 \u001b[0;32mreturn\u001b[0m \u001b[0mmodules\u001b[0m\u001b[0;34m[\u001b[0m\u001b[0mname\u001b[0m\u001b[0;34m]\u001b[0m\u001b[0;34m\u001b[0m\u001b[0;34m\u001b[0m\u001b[0m\n\u001b[1;32m    534\u001b[0m         raise AttributeError(\"'{}' object has no attribute '{}'\".format(\n\u001b[0;32m--> 535\u001b[0;31m             type(self).__name__, name))\n\u001b[0m\u001b[1;32m    536\u001b[0m \u001b[0;34m\u001b[0m\u001b[0m\n\u001b[1;32m    537\u001b[0m     \u001b[0;32mdef\u001b[0m \u001b[0m__setattr__\u001b[0m\u001b[0;34m(\u001b[0m\u001b[0mself\u001b[0m\u001b[0;34m,\u001b[0m \u001b[0mname\u001b[0m\u001b[0;34m,\u001b[0m \u001b[0mvalue\u001b[0m\u001b[0;34m)\u001b[0m\u001b[0;34m:\u001b[0m\u001b[0;34m\u001b[0m\u001b[0;34m\u001b[0m\u001b[0m\n",
      "\u001b[0;31mAttributeError\u001b[0m: 'variational_GP' object has no attribute 'Fv'"
     ]
    }
   ],
   "source": [
    "myGP.Fv()"
   ]
  },
  {
   "cell_type": "code",
   "execution_count": 103,
   "metadata": {},
   "outputs": [
    {
     "name": "stderr",
     "output_type": "stream",
     "text": [
      "/home/frozenmiwe/anaconda3/envs/music/lib/python3.6/site-packages/ipykernel_launcher.py:59: UserWarning: torch.potrf is deprecated in favour of torch.cholesky and will be removed in the next release. Please use torch.cholesky instead and note that the :attr:`upper` argument in torch.cholesky defaults to ``False``.\n",
      "/home/frozenmiwe/anaconda3/envs/music/lib/python3.6/site-packages/ipykernel_launcher.py:69: UserWarning: torch.potrf is deprecated in favour of torch.cholesky and will be removed in the next release. Please use torch.cholesky instead and note that the :attr:`upper` argument in torch.cholesky defaults to ``False``.\n",
      "/home/frozenmiwe/anaconda3/envs/music/lib/python3.6/site-packages/ipykernel_launcher.py:77: UserWarning: torch.potrf is deprecated in favour of torch.cholesky and will be removed in the next release. Please use torch.cholesky instead and note that the :attr:`upper` argument in torch.cholesky defaults to ``False``.\n"
     ]
    },
    {
     "data": {
      "image/png": "[encoded data removed]",
      "text/plain": [
       "<matplotlib.figure.Figure at 0x7fc00033a320>"
      ]
     },
     "metadata": {},
     "output_type": "display_data"
    }
   ],
   "source": [
    "pred_mean, pred_covar = myGP.posterior_predictive(Xn)\n",
    "plot_GP(pred_mean,pred_covar,Xn,Yn,Xn)"
   ]
  },
  {
   "cell_type": "markdown",
   "metadata": {},
   "source": [
    "### During and after:"
   ]
  },
  {
   "cell_type": "code",
   "execution_count": 104,
   "metadata": {},
   "outputs": [
    {
     "name": "stderr",
     "output_type": "stream",
     "text": [
      "/home/frozenmiwe/anaconda3/envs/music/lib/python3.6/site-packages/ipykernel_launcher.py:30: UserWarning: torch.potrf is deprecated in favour of torch.cholesky and will be removed in the next release. Please use torch.cholesky instead and note that the :attr:`upper` argument in torch.cholesky defaults to ``False``.\n",
      "/home/frozenmiwe/anaconda3/envs/music/lib/python3.6/site-packages/ipykernel_launcher.py:45: UserWarning: torch.potrf is deprecated in favour of torch.cholesky and will be removed in the next release. Please use torch.cholesky instead and note that the :attr:`upper` argument in torch.cholesky defaults to ``False``.\n"
     ]
    },
    {
     "name": "stdout",
     "output_type": "stream",
     "text": [
      "0 tensor([[nan]], grad_fn=<AddBackward0>)\n",
      "50 tensor([[nan]], grad_fn=<AddBackward0>)\n"
     ]
    },
    {
     "ename": "KeyboardInterrupt",
     "evalue": "",
     "output_type": "error",
     "traceback": [
      "\u001b[0;31m---------------------------------------------------------------------------\u001b[0m",
      "\u001b[0;31mKeyboardInterrupt\u001b[0m                         Traceback (most recent call last)",
      "\u001b[0;32m<ipython-input-104-8b1334ee1355>\u001b[0m in \u001b[0;36m<module>\u001b[0;34m()\u001b[0m\n\u001b[0;32m----> 1\u001b[0;31m \u001b[0mmyGP\u001b[0m\u001b[0;34m.\u001b[0m\u001b[0moptimize_parameters\u001b[0m\u001b[0;34m(\u001b[0m\u001b[0;36m500\u001b[0m\u001b[0;34m,\u001b[0m\u001b[0;34m'Adam'\u001b[0m\u001b[0;34m)\u001b[0m\u001b[0;34m\u001b[0m\u001b[0;34m\u001b[0m\u001b[0m\n\u001b[0m",
      "\u001b[0;32m<ipython-input-100-c79c042f083b>\u001b[0m in \u001b[0;36moptimize_parameters\u001b[0;34m(self, no_iters, method)\u001b[0m\n\u001b[1;32m    107\u001b[0m             \u001b[0moptimizer\u001b[0m\u001b[0;34m.\u001b[0m\u001b[0mzero_grad\u001b[0m\u001b[0;34m(\u001b[0m\u001b[0;34m)\u001b[0m\u001b[0;34m\u001b[0m\u001b[0;34m\u001b[0m\u001b[0m\n\u001b[1;32m    108\u001b[0m             \u001b[0mloss\u001b[0m \u001b[0;34m=\u001b[0m \u001b[0;34m-\u001b[0m \u001b[0mself\u001b[0m\u001b[0;34m.\u001b[0m\u001b[0mFv_inv\u001b[0m\u001b[0;34m(\u001b[0m\u001b[0;34m)\u001b[0m \u001b[0;31m# Forward. WHY DON'T I HAVE TO NEGATE THIS?\u001b[0m\u001b[0;34m\u001b[0m\u001b[0;34m\u001b[0m\u001b[0m\n\u001b[0;32m--> 109\u001b[0;31m             \u001b[0mloss\u001b[0m\u001b[0;34m.\u001b[0m\u001b[0mbackward\u001b[0m\u001b[0;34m(\u001b[0m\u001b[0;34m)\u001b[0m \u001b[0;31m# Backward\u001b[0m\u001b[0;34m\u001b[0m\u001b[0;34m\u001b[0m\u001b[0m\n\u001b[0m\u001b[1;32m    110\u001b[0m             \u001b[0moptimizer\u001b[0m\u001b[0;34m.\u001b[0m\u001b[0mstep\u001b[0m\u001b[0;34m(\u001b[0m\u001b[0;34m)\u001b[0m \u001b[0;31m# Optimize\u001b[0m\u001b[0;34m\u001b[0m\u001b[0;34m\u001b[0m\u001b[0m\n\u001b[1;32m    111\u001b[0m \u001b[0;34m\u001b[0m\u001b[0m\n",
      "\u001b[0;32m~/anaconda3/envs/music/lib/python3.6/site-packages/torch/tensor.py\u001b[0m in \u001b[0;36mbackward\u001b[0;34m(self, gradient, retain_graph, create_graph)\u001b[0m\n\u001b[1;32m    100\u001b[0m                 \u001b[0mproducts\u001b[0m\u001b[0;34m.\u001b[0m \u001b[0mDefaults\u001b[0m \u001b[0mto\u001b[0m\u001b[0;31m \u001b[0m\u001b[0;31m`\u001b[0m\u001b[0;31m`\u001b[0m\u001b[0;32mFalse\u001b[0m\u001b[0;31m`\u001b[0m\u001b[0;31m`\u001b[0m\u001b[0;34m.\u001b[0m\u001b[0;34m\u001b[0m\u001b[0;34m\u001b[0m\u001b[0m\n\u001b[1;32m    101\u001b[0m         \"\"\"\n\u001b[0;32m--> 102\u001b[0;31m         \u001b[0mtorch\u001b[0m\u001b[0;34m.\u001b[0m\u001b[0mautograd\u001b[0m\u001b[0;34m.\u001b[0m\u001b[0mbackward\u001b[0m\u001b[0;34m(\u001b[0m\u001b[0mself\u001b[0m\u001b[0;34m,\u001b[0m \u001b[0mgradient\u001b[0m\u001b[0;34m,\u001b[0m \u001b[0mretain_graph\u001b[0m\u001b[0;34m,\u001b[0m \u001b[0mcreate_graph\u001b[0m\u001b[0;34m)\u001b[0m\u001b[0;34m\u001b[0m\u001b[0;34m\u001b[0m\u001b[0m\n\u001b[0m\u001b[1;32m    103\u001b[0m \u001b[0;34m\u001b[0m\u001b[0m\n\u001b[1;32m    104\u001b[0m     \u001b[0;32mdef\u001b[0m \u001b[0mregister_hook\u001b[0m\u001b[0;34m(\u001b[0m\u001b[0mself\u001b[0m\u001b[0;34m,\u001b[0m \u001b[0mhook\u001b[0m\u001b[0;34m)\u001b[0m\u001b[0;34m:\u001b[0m\u001b[0;34m\u001b[0m\u001b[0;34m\u001b[0m\u001b[0m\n",
      "\u001b[0;32m~/anaconda3/envs/music/lib/python3.6/site-packages/torch/autograd/__init__.py\u001b[0m in \u001b[0;36mbackward\u001b[0;34m(tensors, grad_tensors, retain_graph, create_graph, grad_variables)\u001b[0m\n\u001b[1;32m     88\u001b[0m     Variable._execution_engine.run_backward(\n\u001b[1;32m     89\u001b[0m         \u001b[0mtensors\u001b[0m\u001b[0;34m,\u001b[0m \u001b[0mgrad_tensors\u001b[0m\u001b[0;34m,\u001b[0m \u001b[0mretain_graph\u001b[0m\u001b[0;34m,\u001b[0m \u001b[0mcreate_graph\u001b[0m\u001b[0;34m,\u001b[0m\u001b[0;34m\u001b[0m\u001b[0;34m\u001b[0m\u001b[0m\n\u001b[0;32m---> 90\u001b[0;31m         allow_unreachable=True)  # allow_unreachable flag\n\u001b[0m\u001b[1;32m     91\u001b[0m \u001b[0;34m\u001b[0m\u001b[0m\n\u001b[1;32m     92\u001b[0m \u001b[0;34m\u001b[0m\u001b[0m\n",
      "\u001b[0;31mKeyboardInterrupt\u001b[0m: "
     ]
    }
   ],
   "source": [
    "myGP.optimize_parameters(500,'Adam')"
   ]
  },
  {
   "cell_type": "code",
   "execution_count": 89,
   "metadata": {},
   "outputs": [
    {
     "name": "stderr",
     "output_type": "stream",
     "text": [
      "/home/frozenmiwe/anaconda3/envs/music/lib/python3.6/site-packages/ipykernel_launcher.py:59: UserWarning: torch.potrf is deprecated in favour of torch.cholesky and will be removed in the next release. Please use torch.cholesky instead and note that the :attr:`upper` argument in torch.cholesky defaults to ``False``.\n",
      "/home/frozenmiwe/anaconda3/envs/music/lib/python3.6/site-packages/ipykernel_launcher.py:69: UserWarning: torch.potrf is deprecated in favour of torch.cholesky and will be removed in the next release. Please use torch.cholesky instead and note that the :attr:`upper` argument in torch.cholesky defaults to ``False``.\n",
      "/home/frozenmiwe/anaconda3/envs/music/lib/python3.6/site-packages/ipykernel_launcher.py:77: UserWarning: torch.potrf is deprecated in favour of torch.cholesky and will be removed in the next release. Please use torch.cholesky instead and note that the :attr:`upper` argument in torch.cholesky defaults to ``False``.\n"
     ]
    },
    {
     "data": {
      "image/png": "[encoded data removed]",
      "text/plain": [
       "<matplotlib.figure.Figure at 0x7fc01c069b38>"
      ]
     },
     "metadata": {},
     "output_type": "display_data"
    }
   ],
   "source": [
    "pred_mean, pred_covar = myGP.posterior_predictive(Xn)\n",
    "plot_GP(pred_mean,pred_covar,Xn,Yn,Xn)"
   ]
  },
  {
   "cell_type": "code",
   "execution_count": 3,
   "metadata": {},
   "outputs": [],
   "source": [
    "class variational_GP(nn.Module):\n",
    "    \n",
    "    def __init__(self, Xn, Yn):   # the GP takes the training data as arguments, in the form of numpy arrays, with the correct dimensions\n",
    "        \n",
    "        super().__init__()\n",
    "        # initialise hyperparameters\n",
    "        self.Xm = nn.Parameter(torch.Tensor(Xn[random.sample(range(Xn.shape[0]),30),:]).type(torch.FloatTensor))\n",
    "        self.Xn = torch.tensor(Xn).type(torch.FloatTensor)\n",
    "        self.Yn = torch.tensor(Yn).type(torch.FloatTensor)\n",
    "        self.no_inputs = Xn.shape[1]\n",
    "        self.logsigmaf2 = nn.Parameter(torch.Tensor([0])) # function variance\n",
    "        self.logl2 = nn.Parameter(torch.zeros(self.no_inputs)) # horizontal length scales\n",
    "        self.logsigman2 = nn.Parameter(torch.Tensor([0])) # noise variance\n",
    "        self.jitter_factor = 1e-4\n",
    "        self.log_marg = 0\n",
    "        self.reg = 0\n",
    "        \n",
    "    def get_K(self,inputs1,inputs2):\n",
    "        \n",
    "        inputs1_col = torch.unsqueeze(inputs1.transpose(0,1), 2)\n",
    "        inputs2_row = torch.unsqueeze(inputs2.transpose(0,1), 1)\n",
    "        squared_distances = (inputs1_col - inputs2_row)**2        \n",
    "        length_factors = (1/(2*torch.exp(self.logl2))).reshape(self.no_inputs,1,1)\n",
    "        K = torch.exp(self.logsigmaf2) * torch.exp(-torch.sum(length_factors * squared_distances, 0))\n",
    "        return(K)\n",
    "    \n",
    "    def Fv(self): # All the necessary arguments are instance variables, so no need to pass them\n",
    "\n",
    "        # Compute first term (log marginal likelihood)\n",
    "        \n",
    "        M = self.get_K(self.Xm,self.Xm) + 1/torch.exp(self.logsigman2) * torch.mm(self.get_K(self.Xm,self.Xn),self.get_K(self.Xn,self.Xm))\n",
    "        M = M + torch.eye(M.shape[0])*self.jitter_factor\n",
    "        L = torch.potrf(M,upper=False)\n",
    "        LslashKmnYn, _ = torch.trtrs(torch.mm(self.get_K(self.Xm,self.Xn),self.Yn),L,upper=False)\n",
    "        \n",
    "        import pdb; pdb.set_trace()\n",
    "        \n",
    "        term_pi = - self.Xn.shape[1] / 2 * torch.log(torch.Tensor([2*np.pi]))\n",
    "        term_det = - 1 / 2 * (torch.logdet(self.get_K(self.Xm,self.Xm) + 1/torch.exp(self.logsigman2)*torch.mm(self.get_K(self.Xm,self.Xn),self.get_K(self.Xn,self.Xm)))\n",
    "                                                  - torch.log(torch.det(self.get_K(self.Xm,self.Xm))) + self.Xn.shape[0]*self.logsigman2)\n",
    "        term_quadratics =  - 1/2*(1/torch.exp(self.logsigman2)*torch.mm(self.Yn.transpose(0,1),self.Yn) \n",
    "                                   - 1/torch.exp(self.logsigman2)**2 * torch.mm(LslashKmnYn.transpose(0,1),LslashKmnYn))\n",
    "        log_marg = term_pi + term_det + term_quadratics\n",
    "                     \n",
    "        \n",
    "        \n",
    "        # Compute second term (trace, regularizer)\n",
    "        TrKnn = 0\n",
    "        for elem in self.Xn:\n",
    "            TrKnn += self.get_K(elem.unsqueeze(0),elem.unsqueeze(0))\n",
    "        \n",
    "        Kmm = self.get_K(self.Xm,self.Xm)\n",
    "        Kmm = Kmm + torch.eye(Kmm.shape[0])*self.jitter_factor\n",
    "        L = torch.potrf(Kmm,upper=False)\n",
    "        LslashKmn, _ = torch.trtrs(self.get_K(self.Xm,self.Xn),L,upper=False)\n",
    "        TrKKK = torch.sum(LslashKmn * LslashKmn)       \n",
    "        reg = - 1/torch.exp(self.logsigman2) * TrKnn - TrKKK\n",
    "        \n",
    "        self.log_marg = log_marg\n",
    "        self.reg = reg\n",
    "        return(log_marg + reg)\n",
    "    \n",
    "    def posterior_predictive(self,test_inputs):\n",
    "        \n",
    "        test_inputs = torch.Tensor(test_inputs)\n",
    "        Sigma = self.get_K(self.Xm,self.Xm) + 1/torch.exp(self.logsigman2) * torch.mm(self.get_K(self.Xn,self.Xm).transpose(0,1),\n",
    "                                                              self.get_K(self.Xn,self.Xm))\n",
    "        Sigma = Sigma+torch.eye(Sigma.shape[0])*self.jitter_factor\n",
    "\n",
    "        #Mean\n",
    "        L = torch.potrf(Sigma,upper=False)\n",
    "        LslashKmnYn, _ = torch.trtrs(torch.mm(self.get_K(self.Xn,self.Xm).transpose(0,1),self.Yn),L,upper=False)\n",
    "        aT, _ = torch.trtrs(self.get_K(test_inputs,self.Xm).transpose(0,1),L,upper=False)\n",
    "        KxmLslash = aT.transpose(0,1)\n",
    "        myq = 1/torch.exp(self.logsigman2) * torch.mm(KxmLslash,LslashKmnYn)\n",
    "\n",
    "        #Second term of the covariance\n",
    "\n",
    "        Kmm = self.get_K(self.Xm,self.Xm)\n",
    "        Kmm = Kmm + torch.eye(Kmm.shape[0])*self.jitter_factor\n",
    "        L = torch.potrf(Kmm,upper=False)\n",
    "        aT, _ = torch.trtrs(self.get_K(test_inputs,self.Xm).transpose(0,1),L,upper=False)\n",
    "        KxmLTslash = aT.transpose(0,1)\n",
    "        LslashKmx, _ = torch.trtrs(self.get_K(test_inputs,self.Xm).transpose(0,1),L,upper=False)\n",
    "        KxmKmminvKmx = torch.mm(KxmLTslash,LslashKmx)\n",
    "\n",
    "        #Third term of the variance\n",
    "\n",
    "        L = torch.potrf(Sigma,upper=False)\n",
    "        aT, _ = torch.trtrs(self.get_K(test_inputs,self.Xm).transpose(0,1),L,upper=False)\n",
    "        KxmLTslash = aT.transpose(0,1)\n",
    "        LslashKmx, _ = torch.trtrs(self.get_K(test_inputs,self.Xm).transpose(0,1),L,upper=False)\n",
    "        KxmSigmainvKmx = torch.mm(KxmLTslash,LslashKmx)\n",
    "\n",
    "        #Whole covariance\n",
    "        kyq = self.get_K(test_inputs,test_inputs) - KxmKmminvKmx + KxmSigmainvKmx\n",
    "        \n",
    "        return(myq,kyq)\n",
    "        \n",
    "    \n",
    "    def optimize_parameters(self,no_iters,method):\n",
    "        \n",
    "        # Set criterion and optimizer FOR NOW I'M GONNA USE ADAM ONLY\n",
    "        '''if method == 'BFGS':\n",
    "            optimizer = optim.LBFGS(self.parameters(), lr=1)  \n",
    "        elif method == 'Adam':\n",
    "            optimizer = optim.Adam(self.parameters(), lr=0.001)\n",
    "        else: \n",
    "            sys.exit('method must be either \\'BFGS\\' or \\'Adam\\'') # An exception would be better\n",
    "        \n",
    "        for iteration in range(no_iters):\n",
    "            optimizer.zero_grad()\n",
    "            loss = self.Fv() # Forward\n",
    "            loss.backward() # Backward\n",
    "            optimizer.step() # Optimize'''\n",
    "            \n",
    "        optimizer = optim.Adam(self.parameters(), lr=0.001)\n",
    "        for iteration in range(no_iters):\n",
    "            print(iteration)\n",
    "            optimizer.zero_grad()\n",
    "            loss = - self.Fv() # Forward. WHY DON'T I HAVE TO NEGATE THIS?\n",
    "            loss.backward() # Backward\n",
    "            optimizer.step() # Optimize\n",
    "            \n",
    "            if iteration%50 == 0:\n",
    "                print(iteration,self.Fv())"
   ]
  },
  {
   "cell_type": "markdown",
   "metadata": {},
   "source": [
    "# Dataset in Titsias paper"
   ]
  },
  {
   "cell_type": "code",
   "execution_count": 4,
   "metadata": {},
   "outputs": [],
   "source": [
    "    # load the 1D dataset\n",
    "    with open('./data/1D/1D_200.pkl', 'rb') as f:\n",
    "        train_inputs, train_outputs, test_inputs = pickle.load(f)\n",
    "    no_train = train_outputs.size\n",
    "    no_test = test_inputs.shape[0]\n",
    "\n",
    "    # convert to torch tensors\n",
    "    train_inputs = torch.Tensor(train_inputs)\n",
    "    train_inputs = torch.unsqueeze(train_inputs, 1) # 1 dimensional data \n",
    "    train_outputs = torch.Tensor(train_outputs)\n",
    "    test_inputs = torch.Tensor(test_inputs)\n",
    "    test_inputs = torch.unsqueeze(test_inputs, 1) # 1 dimensional data"
   ]
  },
  {
   "cell_type": "code",
   "execution_count": 5,
   "metadata": {},
   "outputs": [],
   "source": [
    "random.seed(101)\n",
    "myGP = variational_GP(train_inputs.data.numpy(), np.expand_dims(train_outputs.data.numpy(),1))"
   ]
  },
  {
   "cell_type": "code",
   "execution_count": null,
   "metadata": {
    "scrolled": true
   },
   "outputs": [
    {
     "name": "stderr",
     "output_type": "stream",
     "text": [
      "/home/frozenmiwe/anaconda3/envs/music/lib/python3.6/site-packages/ipykernel_launcher.py:33: UserWarning: torch.potrf is deprecated in favour of torch.cholesky and will be removed in the next release. Please use torch.cholesky instead and note that the :attr:`upper` argument in torch.cholesky defaults to ``False``.\n"
     ]
    },
    {
     "name": "stdout",
     "output_type": "stream",
     "text": [
      "> <ipython-input-3-cc1130245265>(38)Fv()\n",
      "-> term_pi = - self.Xn.shape[1] / 2 * torch.log(torch.Tensor([2*np.pi]))\n",
      "(Pdb) n\n",
      "> <ipython-input-3-cc1130245265>(39)Fv()\n",
      "-> term_det = - 1 / 2 * (torch.logdet(self.get_K(self.Xm,self.Xm) + 1/torch.exp(self.logsigman2)*torch.mm(self.get_K(self.Xm,self.Xn),self.get_K(self.Xn,self.Xm)))\n",
      "(Pdb) term_pi\n",
      "tensor([-0.9189])\n",
      "(Pdb) n\n",
      "> <ipython-input-3-cc1130245265>(40)Fv()\n",
      "-> - torch.log(torch.det(self.get_K(self.Xm,self.Xm))) + Xn.shape[0]*self.logsigman2)\n",
      "(Pdb) term_det\n",
      "*** NameError: name 'term_det' is not defined\n",
      "(Pdb) n\n",
      "NameError: name 'Xn' is not defined\n",
      "> <ipython-input-3-cc1130245265>(40)Fv()\n",
      "-> - torch.log(torch.det(self.get_K(self.Xm,self.Xm))) + Xn.shape[0]*self.logsigman2)\n"
     ]
    }
   ],
   "source": [
    "myGP.Fv()"
   ]
  },
  {
   "cell_type": "code",
   "execution_count": 131,
   "metadata": {},
   "outputs": [
    {
     "data": {
      "text/plain": [
       "tensor([[nan]], grad_fn=<SubBackward0>)"
      ]
     },
     "execution_count": 131,
     "metadata": {},
     "output_type": "execute_result"
    }
   ],
   "source": [
    "myGP.log_marg"
   ]
  },
  {
   "cell_type": "code",
   "execution_count": 132,
   "metadata": {},
   "outputs": [
    {
     "data": {
      "text/plain": [
       "tensor([[-399.9574]], grad_fn=<SubBackward0>)"
      ]
     },
     "execution_count": 132,
     "metadata": {},
     "output_type": "execute_result"
    }
   ],
   "source": [
    "myGP.reg"
   ]
  },
  {
   "cell_type": "code",
   "execution_count": 124,
   "metadata": {},
   "outputs": [
    {
     "name": "stderr",
     "output_type": "stream",
     "text": [
      "/home/frozenmiwe/anaconda3/envs/music/lib/python3.6/site-packages/ipykernel_launcher.py:59: UserWarning: torch.potrf is deprecated in favour of torch.cholesky and will be removed in the next release. Please use torch.cholesky instead and note that the :attr:`upper` argument in torch.cholesky defaults to ``False``.\n",
      "/home/frozenmiwe/anaconda3/envs/music/lib/python3.6/site-packages/ipykernel_launcher.py:69: UserWarning: torch.potrf is deprecated in favour of torch.cholesky and will be removed in the next release. Please use torch.cholesky instead and note that the :attr:`upper` argument in torch.cholesky defaults to ``False``.\n",
      "/home/frozenmiwe/anaconda3/envs/music/lib/python3.6/site-packages/ipykernel_launcher.py:77: UserWarning: torch.potrf is deprecated in favour of torch.cholesky and will be removed in the next release. Please use torch.cholesky instead and note that the :attr:`upper` argument in torch.cholesky defaults to ``False``.\n"
     ]
    },
    {
     "data": {
      "image/png": "[encoded data removed]",
      "text/plain": [
       "<matplotlib.figure.Figure at 0x7fc001f4b470>"
      ]
     },
     "metadata": {},
     "output_type": "display_data"
    }
   ],
   "source": [
    "pred_mean, pred_covar = myGP.posterior_predictive(train_inputs.data.numpy())\n",
    "plot_GP(pred_mean,pred_covar,train_inputs.data.numpy(),np.expand_dims(train_outputs.data.numpy(),1),train_inputs.data.numpy())"
   ]
  },
  {
   "cell_type": "code",
   "execution_count": 117,
   "metadata": {},
   "outputs": [
    {
     "name": "stdout",
     "output_type": "stream",
     "text": [
      "0\n"
     ]
    },
    {
     "name": "stderr",
     "output_type": "stream",
     "text": [
      "/home/frozenmiwe/anaconda3/envs/music/lib/python3.6/site-packages/ipykernel_launcher.py:30: UserWarning: torch.potrf is deprecated in favour of torch.cholesky and will be removed in the next release. Please use torch.cholesky instead and note that the :attr:`upper` argument in torch.cholesky defaults to ``False``.\n",
      "/home/frozenmiwe/anaconda3/envs/music/lib/python3.6/site-packages/ipykernel_launcher.py:45: UserWarning: torch.potrf is deprecated in favour of torch.cholesky and will be removed in the next release. Please use torch.cholesky instead and note that the :attr:`upper` argument in torch.cholesky defaults to ``False``.\n"
     ]
    },
    {
     "ename": "RuntimeError",
     "evalue": "Lapack Error in potrf : the leading minor of order 1 is not positive definite at /opt/conda/conda-bld/pytorch_1549277628941/work/aten/src/TH/generic/THTensorLapack.cpp:658",
     "output_type": "error",
     "traceback": [
      "\u001b[0;31m---------------------------------------------------------------------------\u001b[0m",
      "\u001b[0;31mRuntimeError\u001b[0m                              Traceback (most recent call last)",
      "\u001b[0;32m<ipython-input-117-8b1334ee1355>\u001b[0m in \u001b[0;36m<module>\u001b[0;34m()\u001b[0m\n\u001b[0;32m----> 1\u001b[0;31m \u001b[0mmyGP\u001b[0m\u001b[0;34m.\u001b[0m\u001b[0moptimize_parameters\u001b[0m\u001b[0;34m(\u001b[0m\u001b[0;36m500\u001b[0m\u001b[0;34m,\u001b[0m\u001b[0;34m'Adam'\u001b[0m\u001b[0;34m)\u001b[0m\u001b[0;34m\u001b[0m\u001b[0;34m\u001b[0m\u001b[0m\n\u001b[0m",
      "\u001b[0;32m<ipython-input-114-89c691d187cc>\u001b[0m in \u001b[0;36moptimize_parameters\u001b[0;34m(self, no_iters, method)\u001b[0m\n\u001b[1;32m    112\u001b[0m \u001b[0;34m\u001b[0m\u001b[0m\n\u001b[1;32m    113\u001b[0m             \u001b[0;32mif\u001b[0m \u001b[0miteration\u001b[0m\u001b[0;34m%\u001b[0m\u001b[0;36m50\u001b[0m \u001b[0;34m==\u001b[0m \u001b[0;36m0\u001b[0m\u001b[0;34m:\u001b[0m\u001b[0;34m\u001b[0m\u001b[0;34m\u001b[0m\u001b[0m\n\u001b[0;32m--> 114\u001b[0;31m                 \u001b[0mprint\u001b[0m\u001b[0;34m(\u001b[0m\u001b[0miteration\u001b[0m\u001b[0;34m,\u001b[0m\u001b[0mself\u001b[0m\u001b[0;34m.\u001b[0m\u001b[0mFv_inv\u001b[0m\u001b[0;34m(\u001b[0m\u001b[0;34m)\u001b[0m\u001b[0;34m)\u001b[0m\u001b[0;34m\u001b[0m\u001b[0;34m\u001b[0m\u001b[0m\n\u001b[0m",
      "\u001b[0;32m<ipython-input-114-89c691d187cc>\u001b[0m in \u001b[0;36mFv_inv\u001b[0;34m(self)\u001b[0m\n\u001b[1;32m     28\u001b[0m         \u001b[0mM\u001b[0m \u001b[0;34m=\u001b[0m \u001b[0mself\u001b[0m\u001b[0;34m.\u001b[0m\u001b[0mget_K\u001b[0m\u001b[0;34m(\u001b[0m\u001b[0mself\u001b[0m\u001b[0;34m.\u001b[0m\u001b[0mXm\u001b[0m\u001b[0;34m,\u001b[0m\u001b[0mself\u001b[0m\u001b[0;34m.\u001b[0m\u001b[0mXm\u001b[0m\u001b[0;34m)\u001b[0m \u001b[0;34m+\u001b[0m \u001b[0;36m1\u001b[0m\u001b[0;34m/\u001b[0m\u001b[0mtorch\u001b[0m\u001b[0;34m.\u001b[0m\u001b[0mexp\u001b[0m\u001b[0;34m(\u001b[0m\u001b[0mself\u001b[0m\u001b[0;34m.\u001b[0m\u001b[0mlogsigman2\u001b[0m\u001b[0;34m)\u001b[0m \u001b[0;34m*\u001b[0m \u001b[0mtorch\u001b[0m\u001b[0;34m.\u001b[0m\u001b[0mmm\u001b[0m\u001b[0;34m(\u001b[0m\u001b[0mself\u001b[0m\u001b[0;34m.\u001b[0m\u001b[0mget_K\u001b[0m\u001b[0;34m(\u001b[0m\u001b[0mself\u001b[0m\u001b[0;34m.\u001b[0m\u001b[0mXm\u001b[0m\u001b[0;34m,\u001b[0m\u001b[0mself\u001b[0m\u001b[0;34m.\u001b[0m\u001b[0mXn\u001b[0m\u001b[0;34m)\u001b[0m\u001b[0;34m,\u001b[0m\u001b[0mself\u001b[0m\u001b[0;34m.\u001b[0m\u001b[0mget_K\u001b[0m\u001b[0;34m(\u001b[0m\u001b[0mself\u001b[0m\u001b[0;34m.\u001b[0m\u001b[0mXn\u001b[0m\u001b[0;34m,\u001b[0m\u001b[0mself\u001b[0m\u001b[0;34m.\u001b[0m\u001b[0mXm\u001b[0m\u001b[0;34m)\u001b[0m\u001b[0;34m)\u001b[0m\u001b[0;34m\u001b[0m\u001b[0;34m\u001b[0m\u001b[0m\n\u001b[1;32m     29\u001b[0m         \u001b[0mM\u001b[0m \u001b[0;34m=\u001b[0m \u001b[0mM\u001b[0m \u001b[0;34m+\u001b[0m \u001b[0mtorch\u001b[0m\u001b[0;34m.\u001b[0m\u001b[0meye\u001b[0m\u001b[0;34m(\u001b[0m\u001b[0mM\u001b[0m\u001b[0;34m.\u001b[0m\u001b[0mshape\u001b[0m\u001b[0;34m[\u001b[0m\u001b[0;36m0\u001b[0m\u001b[0;34m]\u001b[0m\u001b[0;34m)\u001b[0m\u001b[0;34m*\u001b[0m\u001b[0mself\u001b[0m\u001b[0;34m.\u001b[0m\u001b[0mjitter_factor\u001b[0m\u001b[0;34m\u001b[0m\u001b[0;34m\u001b[0m\u001b[0m\n\u001b[0;32m---> 30\u001b[0;31m         \u001b[0mL\u001b[0m \u001b[0;34m=\u001b[0m \u001b[0mtorch\u001b[0m\u001b[0;34m.\u001b[0m\u001b[0mpotrf\u001b[0m\u001b[0;34m(\u001b[0m\u001b[0mM\u001b[0m\u001b[0;34m,\u001b[0m\u001b[0mupper\u001b[0m\u001b[0;34m=\u001b[0m\u001b[0;32mFalse\u001b[0m\u001b[0;34m)\u001b[0m\u001b[0;34m\u001b[0m\u001b[0;34m\u001b[0m\u001b[0m\n\u001b[0m\u001b[1;32m     31\u001b[0m         \u001b[0mLslashKmnYn\u001b[0m\u001b[0;34m,\u001b[0m \u001b[0m_\u001b[0m \u001b[0;34m=\u001b[0m \u001b[0mtorch\u001b[0m\u001b[0;34m.\u001b[0m\u001b[0mtrtrs\u001b[0m\u001b[0;34m(\u001b[0m\u001b[0mtorch\u001b[0m\u001b[0;34m.\u001b[0m\u001b[0mmm\u001b[0m\u001b[0;34m(\u001b[0m\u001b[0mself\u001b[0m\u001b[0;34m.\u001b[0m\u001b[0mget_K\u001b[0m\u001b[0;34m(\u001b[0m\u001b[0mself\u001b[0m\u001b[0;34m.\u001b[0m\u001b[0mXm\u001b[0m\u001b[0;34m,\u001b[0m\u001b[0mself\u001b[0m\u001b[0;34m.\u001b[0m\u001b[0mXn\u001b[0m\u001b[0;34m)\u001b[0m\u001b[0;34m,\u001b[0m\u001b[0mself\u001b[0m\u001b[0;34m.\u001b[0m\u001b[0mYn\u001b[0m\u001b[0;34m)\u001b[0m\u001b[0;34m,\u001b[0m\u001b[0mL\u001b[0m\u001b[0;34m,\u001b[0m\u001b[0mupper\u001b[0m\u001b[0;34m=\u001b[0m\u001b[0;32mFalse\u001b[0m\u001b[0;34m)\u001b[0m\u001b[0;34m\u001b[0m\u001b[0;34m\u001b[0m\u001b[0m\n\u001b[1;32m     32\u001b[0m         log_marg = (- Xn.shape[1] / 2 * torch.log(torch.Tensor([2*np.pi])) # - 1*D/2 * log(2*pi)\n",
      "\u001b[0;32m~/anaconda3/envs/music/lib/python3.6/site-packages/torch/functional.py\u001b[0m in \u001b[0;36mpotrf\u001b[0;34m(a, upper, out)\u001b[0m\n\u001b[1;32m    791\u001b[0m                   \u001b[0;34m\"release. Please use torch.cholesky instead and note that the :attr:`upper` argument in\"\u001b[0m\u001b[0;34m\u001b[0m\u001b[0;34m\u001b[0m\u001b[0m\n\u001b[1;32m    792\u001b[0m                   \" torch.cholesky defaults to ``False``.\", stacklevel=2)\n\u001b[0;32m--> 793\u001b[0;31m     \u001b[0;32mreturn\u001b[0m \u001b[0mtorch\u001b[0m\u001b[0;34m.\u001b[0m\u001b[0mcholesky\u001b[0m\u001b[0;34m(\u001b[0m\u001b[0ma\u001b[0m\u001b[0;34m,\u001b[0m \u001b[0mupper\u001b[0m\u001b[0;34m=\u001b[0m\u001b[0mupper\u001b[0m\u001b[0;34m,\u001b[0m \u001b[0mout\u001b[0m\u001b[0;34m=\u001b[0m\u001b[0mout\u001b[0m\u001b[0;34m)\u001b[0m\u001b[0;34m\u001b[0m\u001b[0;34m\u001b[0m\u001b[0m\n\u001b[0m",
      "\u001b[0;31mRuntimeError\u001b[0m: Lapack Error in potrf : the leading minor of order 1 is not positive definite at /opt/conda/conda-bld/pytorch_1549277628941/work/aten/src/TH/generic/THTensorLapack.cpp:658"
     ]
    }
   ],
   "source": [
    "myGP.optimize_parameters(500,'Adam')"
   ]
  },
  {
   "cell_type": "code",
   "execution_count": 72,
   "metadata": {},
   "outputs": [
    {
     "name": "stderr",
     "output_type": "stream",
     "text": [
      "/home/frozenmiwe/anaconda3/envs/music/lib/python3.6/site-packages/ipykernel_launcher.py:59: UserWarning: torch.potrf is deprecated in favour of torch.cholesky and will be removed in the next release. Please use torch.cholesky instead and note that the :attr:`upper` argument in torch.cholesky defaults to ``False``.\n",
      "/home/frozenmiwe/anaconda3/envs/music/lib/python3.6/site-packages/ipykernel_launcher.py:69: UserWarning: torch.potrf is deprecated in favour of torch.cholesky and will be removed in the next release. Please use torch.cholesky instead and note that the :attr:`upper` argument in torch.cholesky defaults to ``False``.\n",
      "/home/frozenmiwe/anaconda3/envs/music/lib/python3.6/site-packages/ipykernel_launcher.py:77: UserWarning: torch.potrf is deprecated in favour of torch.cholesky and will be removed in the next release. Please use torch.cholesky instead and note that the :attr:`upper` argument in torch.cholesky defaults to ``False``.\n"
     ]
    },
    {
     "data": {
      "image/png": "[encoded data removed]",
      "text/plain": [
       "<matplotlib.figure.Figure at 0x7fc001f02898>"
      ]
     },
     "metadata": {},
     "output_type": "display_data"
    }
   ],
   "source": [
    "pred_mean, pred_covar = myGP.posterior_predictive(train_inputs.data.numpy())\n",
    "plot_GP(pred_mean,pred_covar,train_inputs.data.numpy(),np.expand_dims(train_outputs.data.numpy(),1),train_inputs.data.numpy())"
   ]
  },
  {
   "cell_type": "code",
   "execution_count": null,
   "metadata": {},
   "outputs": [],
   "source": []
  },
  {
   "cell_type": "code",
   "execution_count": null,
   "metadata": {},
   "outputs": [],
   "source": []
  }
 ],
 "metadata": {
  "kernelspec": {
   "display_name": "Python 3",
   "language": "python",
   "name": "python3"
  },
  "language_info": {
   "codemirror_mode": {
    "name": "ipython",
    "version": 3
   },
   "file_extension": ".py",
   "mimetype": "text/x-python",
   "name": "python",
   "nbconvert_exporter": "python",
   "pygments_lexer": "ipython3",
   "version": "3.6.8"
  }
 },
 "nbformat": 4,
 "nbformat_minor": 2
}
